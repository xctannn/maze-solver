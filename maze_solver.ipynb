{
 "cells": [
  {
   "cell_type": "code",
   "execution_count": 1,
   "metadata": {},
   "outputs": [],
   "source": [
    "from queue import PriorityQueue\n",
    "import time"
   ]
  },
  {
   "attachments": {},
   "cell_type": "markdown",
   "metadata": {},
   "source": [
    "#### **A * search using Manhattan distance**"
   ]
  },
  {
   "cell_type": "code",
   "execution_count": 2,
   "metadata": {},
   "outputs": [],
   "source": [
    "# Declaring the heuristic function as manhattan distance\n",
    "def heuristic(cell1,cell2):\n",
    "    x1,y1=cell1\n",
    "    x2,y2=cell2\n",
    "    return abs(x1-x2) + abs(y1-y2)"
   ]
  },
  {
   "cell_type": "code",
   "execution_count": 3,
   "metadata": {},
   "outputs": [],
   "source": [
    "def aStar(m):\n",
    "    st = time.time()\n",
    "    start=(m.rows,m.cols)\n",
    "    goal=(1,1)\n",
    "    g_score={cell:float('inf') for cell in m.grid}\n",
    "    g_score[start]=0\n",
    "    f_score={cell:float('inf') for cell in m.grid}\n",
    "    f_score[start]=heuristic(start,goal)\n",
    "\n",
    "    open=PriorityQueue()\n",
    "    open.put((heuristic(start,goal),heuristic(start,goal),start))\n",
    "    aPath={}\n",
    "    searchPath = []\n",
    "    \n",
    "    while not open.empty():\n",
    "        currCell=open.get()[2]\n",
    "        searchPath.append(currCell)\n",
    "\n",
    "        if currCell == goal:\n",
    "            break\n",
    "\n",
    "        for d in 'ESNW':\n",
    "            if m.maze_map[currCell][d] == True:\n",
    "                if d == 'E':\n",
    "                    childCell = (currCell[0], currCell[1]+1)\n",
    "                if d == \"W\":\n",
    "                    childCell = (currCell[0], currCell[1]-1)\n",
    "                if d == \"S\":\n",
    "                    childCell = (currCell[0]+1, currCell[1])   \n",
    "                if d == \"N\":\n",
    "                    childCell = (currCell[0]-1, currCell[1])  \n",
    "   \n",
    "                temp_g_score = g_score[currCell]+1\n",
    "                temp_f_score = temp_g_score + heuristic(childCell,(1,1))\n",
    "\n",
    "                if temp_f_score < f_score[childCell]:\n",
    "                    g_score[childCell] = temp_g_score\n",
    "                    f_score[childCell] = temp_f_score\n",
    "                    open.put((temp_f_score, heuristic(childCell,(1,1)),childCell))\n",
    "                    aPath[childCell]=currCell\n",
    "    \n",
    "    fwdPath={}\n",
    "    \n",
    "    while goal!=start:\n",
    "        fwdPath[aPath[goal]]=goal\n",
    "        goal=aPath[goal]\n",
    "\n",
    "    et = time.time()\n",
    "    elapsed_time = et - st\n",
    "\n",
    "    return fwdPath, elapsed_time"
   ]
  },
  {
   "attachments": {},
   "cell_type": "markdown",
   "metadata": {},
   "source": [
    "#### **Breadth-First Search where a cell is allowed to be visited at most thrice**"
   ]
  },
  {
   "cell_type": "code",
   "execution_count": 4,
   "metadata": {},
   "outputs": [],
   "source": [
    "def BFS(m):\n",
    "    st = time.time()\n",
    "    start = (m.rows, m.cols)\n",
    "    explored = {start: 1}\n",
    "    frontier = [start]\n",
    "\n",
    "    bfsPath = {}\n",
    "    searchPath = []\n",
    "\n",
    "    while len(frontier) > 0:\n",
    "        currCell = frontier.pop(0)\n",
    "        searchPath.append(currCell)\n",
    "\n",
    "        if currCell == (1, 1):\n",
    "            break\n",
    "\n",
    "        for d in 'ESNW':\n",
    "            if m.maze_map[currCell][d] == True:\n",
    "                if d == 'E':\n",
    "                    childCell = (currCell[0], currCell[1] + 1)\n",
    "                elif d == \"W\":\n",
    "                    childCell = (currCell[0], currCell[1] - 1)\n",
    "                elif d == \"S\":\n",
    "                    childCell = (currCell[0] + 1, currCell[1])\n",
    "                elif d == \"N\":\n",
    "                    childCell = (currCell[0] - 1, currCell[1])\n",
    "\n",
    "                if childCell in explored and explored[childCell] == 3:\n",
    "                    continue\n",
    "\n",
    "                # Update the visit count or add the cell to the explored dictionary\n",
    "                if childCell in explored:\n",
    "                    explored[childCell] += 1\n",
    "                else:\n",
    "                    explored[childCell] = 1\n",
    "\n",
    "                frontier.append(childCell)\n",
    "                bfsPath[childCell] = currCell\n",
    "\n",
    "    fwdPath = {}\n",
    "    cell = (1, 1)\n",
    "\n",
    "    while cell != start:\n",
    "        fwdPath[bfsPath[cell]] = cell\n",
    "        cell = bfsPath[cell]\n",
    "\n",
    "    et = time.time()\n",
    "    elapsed_time = et - st\n",
    "\n",
    "    return fwdPath, elapsed_time"
   ]
  },
  {
   "cell_type": "code",
   "execution_count": 5,
   "metadata": {},
   "outputs": [],
   "source": [
    "from pyamaze import maze\n",
    "# maze1 is a 10*10 maze with loopPercent 5\n",
    "maze1 = maze()\n",
    "maze1.CreateMaze(loadMaze=\"maze--10-10.csv\")\n",
    "\n",
    "# maze2 is a 15*15 maze with loopPercent 5\n",
    "maze2 = maze()\n",
    "maze2.CreateMaze(loadMaze=\"maze--15-15.csv\")\n",
    "\n",
    "# maze3 is a 20*20 maze with loopPercent 2\n",
    "maze3 = maze()\n",
    "maze3.CreateMaze(loadMaze=\"maze--20-20.csv\")\n",
    "\n",
    "# maze4 is a 25*25 maze with loopPercent 2\n",
    "maze4 = maze()\n",
    "maze4.CreateMaze(loadMaze=\"maze--25-25.csv\")\n",
    "\n",
    "# maze 1 is a 30*30 maze with loopPercent 5\n",
    "maze5 = maze()\n",
    "maze5.CreateMaze(loadMaze=\"maze--30-30.csv\")"
   ]
  },
  {
   "cell_type": "code",
   "execution_count": 6,
   "metadata": {},
   "outputs": [],
   "source": [
    "import matplotlib.pyplot as plt\n",
    "\n",
    "a_star_time = []\n",
    "BFS_time = []\n",
    "\n",
    "a_star_time.append(aStar(maze1)[1]*1000)\n",
    "a_star_time.append(aStar(maze2)[1]*1000)\n",
    "a_star_time.append(aStar(maze3)[1]*1000)\n",
    "a_star_time.append(aStar(maze4)[1]*1000)\n",
    "a_star_time.append(aStar(maze5)[1]*1000)\n"
   ]
  },
  {
   "cell_type": "code",
   "execution_count": 7,
   "metadata": {},
   "outputs": [
    {
     "data": {
      "text/plain": [
       "[0.9377002716064453,\n",
       " 0.9949207305908203,\n",
       " 2.0363330841064453,\n",
       " 2.9959678649902344,\n",
       " 5.999326705932617]"
      ]
     },
     "execution_count": 7,
     "metadata": {},
     "output_type": "execute_result"
    }
   ],
   "source": [
    "a_star_time"
   ]
  },
  {
   "cell_type": "code",
   "execution_count": 8,
   "metadata": {},
   "outputs": [],
   "source": [
    "BFS_time.append(BFS(maze1)[1]*1000)\n",
    "BFS_time.append(BFS(maze2)[1]*1000)\n",
    "BFS_time.append(BFS(maze3)[1]*1000)\n",
    "BFS_time.append(BFS(maze4)[1]*1000)\n",
    "BFS_time.append(BFS(maze5)[1]*1000)"
   ]
  },
  {
   "cell_type": "code",
   "execution_count": 9,
   "metadata": {},
   "outputs": [
    {
     "data": {
      "text/plain": [
       "[1.0044574737548828,\n",
       " 0.9965896606445312,\n",
       " 0.9949207305908203,\n",
       " 2.979278564453125,\n",
       " 5.00178337097168]"
      ]
     },
     "execution_count": 9,
     "metadata": {},
     "output_type": "execute_result"
    }
   ],
   "source": [
    "BFS_time"
   ]
  },
  {
   "cell_type": "code",
   "execution_count": 10,
   "metadata": {},
   "outputs": [
    {
     "data": {
      "image/png": "[encoded data removed]",
      "text/plain": [
       "<Figure size 432x288 with 1 Axes>"
      ]
     },
     "metadata": {
      "needs_background": "light"
     },
     "output_type": "display_data"
    }
   ],
   "source": [
    "# plotting results\n",
    "maze_sizes = [10, 15, 20, 25,30]\n",
    "plt.plot(maze_sizes, a_star_time, label=\"A*\")\n",
    "plt.plot(maze_sizes, BFS_time, label=\"BFS\")\n",
    "plt.xlabel(\"Maze Size\")\n",
    "plt.ylabel(\"Time (milliseconds)\")\n",
    "plt.title(\"Comparison of A* and BFS for Maze Solving\")\n",
    "plt.legend()\n",
    "plt.show()"
   ]
  },
  {
   "attachments": {},
   "cell_type": "markdown",
   "metadata": {},
   "source": [
    "`Based on the observation, Breadth-First Search (BFS) was consistently faster than the A* algorithm for maze pathfinding. This unexpected result indicates that the mazes used in this experiment likely had characteristics that made the optimal path easily discoverable without the need for heuristic guidance.`"
   ]
  }
 ],
 "metadata": {
  "kernelspec": {
   "display_name": "Python 3 (ipykernel)",
   "language": "python",
   "name": "python3"
  },
  "language_info": {
   "codemirror_mode": {
    "name": "ipython",
    "version": 3
   },
   "file_extension": ".py",
   "mimetype": "text/x-python",
   "name": "python",
   "nbconvert_exporter": "python",
   "pygments_lexer": "ipython3",
   "version": "3.10.4"
  }
 },
 "nbformat": 4,
 "nbformat_minor": 2
}
