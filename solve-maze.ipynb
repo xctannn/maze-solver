{
 "cells": [
  {
   "cell_type": "code",
   "execution_count": 1,
   "metadata": {},
   "outputs": [],
   "source": [
    "from queue import PriorityQueue\n",
    "import time"
   ]
  },
  {
   "attachments": {},
   "cell_type": "markdown",
   "metadata": {},
   "source": [
    "#### **A * search using Manhattan distance**"
   ]
  },
  {
   "cell_type": "code",
   "execution_count": 2,
   "metadata": {},
   "outputs": [],
   "source": [
    "# Declaring the heuristic function as manhattan distance\n",
    "def heuristic(cell1,cell2):\n",
    "    x1,y1=cell1\n",
    "    x2,y2=cell2\n",
    "    return abs(x1-x2) + abs(y1-y2)"
   ]
  },
  {
   "cell_type": "code",
   "execution_count": 3,
   "metadata": {},
   "outputs": [],
   "source": [
    "def aStar(m):\n",
    "    st = time.time()\n",
    "    start=(m.rows,m.cols)\n",
    "    goal=(1,1)\n",
    "    g_score={cell:float('inf') for cell in m.grid}\n",
    "    g_score[start]=0\n",
    "    f_score={cell:float('inf') for cell in m.grid}\n",
    "    f_score[start]=heuristic(start,goal)\n",
    "\n",
    "    open=PriorityQueue()\n",
    "    open.put((heuristic(start,goal),heuristic(start,goal),start))\n",
    "    aPath={}\n",
    "    searchPath = []\n",
    "    \n",
    "    while not open.empty():\n",
    "        currCell=open.get()[2]\n",
    "        searchPath.append(currCell)\n",
    "\n",
    "        if currCell == goal:\n",
    "            break\n",
    "\n",
    "        for d in 'ESNW':\n",
    "            if m.maze_map[currCell][d] == True:\n",
    "                if d == 'E':\n",
    "                    childCell = (currCell[0], currCell[1]+1)\n",
    "                if d == \"W\":\n",
    "                    childCell = (currCell[0], currCell[1]-1)\n",
    "                if d == \"S\":\n",
    "                    childCell = (currCell[0]+1, currCell[1])   \n",
    "                if d == \"N\":\n",
    "                    childCell = (currCell[0]-1, currCell[1])  \n",
    "   \n",
    "                temp_g_score = g_score[currCell]+1\n",
    "                temp_f_score = temp_g_score + heuristic(childCell,(1,1))\n",
    "\n",
    "                if temp_f_score < f_score[childCell]:\n",
    "                    g_score[childCell] = temp_g_score\n",
    "                    f_score[childCell] = temp_f_score\n",
    "                    open.put((temp_f_score, heuristic(childCell,(1,1)),childCell))\n",
    "                    aPath[childCell]=currCell\n",
    "    \n",
    "    fwdPath={}\n",
    "    \n",
    "    while goal!=start:\n",
    "        fwdPath[aPath[goal]]=goal\n",
    "        goal=aPath[goal]\n",
    "\n",
    "    et = time.time()\n",
    "    elapsed_time = et - st\n",
    "\n",
    "    return fwdPath, elapsed_time"
   ]
  },
  {
   "attachments": {},
   "cell_type": "markdown",
   "metadata": {},
   "source": [
    "#### **Breadth-First Search where a cell is allowed to be visited at most thrice**"
   ]
  },
  {
   "cell_type": "code",
   "execution_count": 4,
   "metadata": {},
   "outputs": [],
   "source": [
    "def BFS(m):\n",
    "    st = time.time()\n",
    "    start = (m.rows, m.cols)\n",
    "    explored = {start: 1}\n",
    "    frontier = [start]\n",
    "\n",
    "    bfsPath = {}\n",
    "    searchPath = []\n",
    "\n",
    "    while len(frontier) > 0:\n",
    "        currCell = frontier.pop(0)\n",
    "        searchPath.append(currCell)\n",
    "\n",
    "        if currCell == (1, 1):\n",
    "            break\n",
    "\n",
    "        for d in 'ESNW':\n",
    "            if m.maze_map[currCell][d] == True:\n",
    "                if d == 'E':\n",
    "                    childCell = (currCell[0], currCell[1] + 1)\n",
    "                elif d == \"W\":\n",
    "                    childCell = (currCell[0], currCell[1] - 1)\n",
    "                elif d == \"S\":\n",
    "                    childCell = (currCell[0] + 1, currCell[1])\n",
    "                elif d == \"N\":\n",
    "                    childCell = (currCell[0] - 1, currCell[1])\n",
    "\n",
    "                if childCell in explored and explored[childCell] == 3:\n",
    "                    continue\n",
    "\n",
    "                # Update the visit count or add the cell to the explored dictionary\n",
    "                if childCell in explored:\n",
    "                    explored[childCell] += 1\n",
    "                else:\n",
    "                    explored[childCell] = 1\n",
    "\n",
    "                frontier.append(childCell)\n",
    "                bfsPath[childCell] = currCell\n",
    "\n",
    "    fwdPath = {}\n",
    "    cell = (1, 1)\n",
    "\n",
    "    while cell != start:\n",
    "        fwdPath[bfsPath[cell]] = cell\n",
    "        cell = bfsPath[cell]\n",
    "\n",
    "    et = time.time()\n",
    "    elapsed_time = et - st\n",
    "\n",
    "    return fwdPath, elapsed_time"
   ]
  },
  {
   "cell_type": "code",
   "execution_count": 5,
   "metadata": {},
   "outputs": [],
   "source": [
    "from pyamaze import maze\n",
    "# maze1 is a 10*10 maze with loopPercent 3\n",
    "maze1 = maze()\n",
    "maze1.CreateMaze(loadMaze=\"10-maze.csv\")\n",
    "\n",
    "# maze2 is a 20*20 maze with loopPercent 3\n",
    "maze2 = maze()\n",
    "maze2.CreateMaze(loadMaze=\"20-maze.csv\")\n",
    "\n",
    "# maze3 is a 30*30 maze with loopPercent 3\n",
    "maze3 = maze()\n",
    "maze3.CreateMaze(loadMaze=\"30-maze.csv\")\n",
    "\n",
    "# maze4 is a 40*40 maze with loopPercent 3\n",
    "maze4 = maze()\n",
    "maze4.CreateMaze(loadMaze=\"40-maze.csv\")\n",
    "\n",
    "# maze5 is a 50*50 maze with loopPercent 3\n",
    "maze5 = maze()\n",
    "maze5.CreateMaze(loadMaze=\"50-maze.csv\")"
   ]
  },
  {
   "cell_type": "code",
   "execution_count": 6,
   "metadata": {},
   "outputs": [],
   "source": [
    "import matplotlib.pyplot as plt"
   ]
  },
  {
   "cell_type": "code",
   "execution_count": 14,
   "metadata": {},
   "outputs": [
    {
     "data": {
      "text/plain": [
       "[1.9974708557128906,\n",
       " 6.587505340576172,\n",
       " 9.32455062866211,\n",
       " 8.975505828857422,\n",
       " 16.616106033325195]"
      ]
     },
     "execution_count": 14,
     "metadata": {},
     "output_type": "execute_result"
    }
   ],
   "source": [
    "a_star_time = []\n",
    "\n",
    "a_star_time.append(aStar(maze1)[1]*1000)\n",
    "a_star_time.append(aStar(maze2)[1]*1000)\n",
    "a_star_time.append(aStar(maze3)[1]*1000)\n",
    "a_star_time.append(aStar(maze4)[1]*1000)\n",
    "a_star_time.append(aStar(maze5)[1]*1000)\n",
    "a_star_time"
   ]
  },
  {
   "cell_type": "code",
   "execution_count": 8,
   "metadata": {},
   "outputs": [
    {
     "data": {
      "text/plain": [
       "[0.5383491516113281,\n",
       " 5.523204803466797,\n",
       " 8.674383163452148,\n",
       " 19.725799560546875,\n",
       " 22.058963775634766]"
      ]
     },
     "execution_count": 8,
     "metadata": {},
     "output_type": "execute_result"
    }
   ],
   "source": [
    "BFS_time = []\n",
    "\n",
    "BFS_time.append(BFS(maze1)[1]*1000)\n",
    "BFS_time.append(BFS(maze2)[1]*1000)\n",
    "BFS_time.append(BFS(maze3)[1]*1000)\n",
    "BFS_time.append(BFS(maze4)[1]*1000)\n",
    "BFS_time.append(BFS(maze5)[1]*1000)\n",
    "BFS_time"
   ]
  },
  {
   "cell_type": "code",
   "execution_count": 15,
   "metadata": {},
   "outputs": [
    {
     "data": {
      "image/png": "[encoded data removed]",
      "text/plain": [
       "<Figure size 432x288 with 1 Axes>"
      ]
     },
     "metadata": {
      "needs_background": "light"
     },
     "output_type": "display_data"
    }
   ],
   "source": [
    "# plotting results\n",
    "maze_sizes = [10, 20, 30, 40, 50]\n",
    "plt.plot(maze_sizes, a_star_time, label=\"A*\")\n",
    "plt.plot(maze_sizes, BFS_time, label=\"BFS\")\n",
    "plt.xlabel(\"Maze Size\")\n",
    "plt.ylabel(\"Time (milliseconds)\")\n",
    "plt.title(\"Comparison of A* and BFS for Maze Solving\")\n",
    "plt.legend()\n",
    "plt.show()"
   ]
  },
  {
   "attachments": {},
   "cell_type": "markdown",
   "metadata": {},
   "source": [
    "`When comparing the efficiency of A* and Breadth First Search (BFS) algorithm, it can be seen that when the maze size is around 10 to 30, the A* algorithm performs slightly worse than BFS when solving the maze. However, when the maze size is increased to 40 and 50, the A* algorithm performs better than BFS by a significant margin. This is because as the maze size increases, the size of BFS algorithm’s search path increases faster than A* algorithm’s search path size due to the fact that BFS has to visit some cells for 3 times.`"
   ]
  }
 ],
 "metadata": {
  "kernelspec": {
   "display_name": "Python 3 (ipykernel)",
   "language": "python",
   "name": "python3"
  },
  "language_info": {
   "codemirror_mode": {
    "name": "ipython",
    "version": 3
   },
   "file_extension": ".py",
   "mimetype": "text/x-python",
   "name": "python",
   "nbconvert_exporter": "python",
   "pygments_lexer": "ipython3",
   "version": "3.10.4"
  }
 },
 "nbformat": 4,
 "nbformat_minor": 2
}
